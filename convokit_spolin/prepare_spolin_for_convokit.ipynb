{
 "cells": [
  {
   "cell_type": "markdown",
   "id": "b44bb0bc-9b9c-41c7-9c86-4f644b111e19",
   "metadata": {},
   "source": [
    "reference: https://github.com/CornellNLP/ConvoKit/blob/master/examples/converting_movie_corpus.ipynb"
   ]
  },
  {
   "cell_type": "code",
   "execution_count": 1,
   "id": "2ccabfc2-01d1-4089-bdb8-6f4aa2ff9680",
   "metadata": {},
   "outputs": [],
   "source": [
    "from tqdm import tqdm\n",
    "from convokit import Corpus, Speaker, Utterance\n",
    "from collections import defaultdict\n",
    "import convokit \n",
    "import json "
   ]
  },
  {
   "cell_type": "code",
   "execution_count": 2,
   "id": "152e2dd3-7368-4376-80cb-77ca6ab87703",
   "metadata": {},
   "outputs": [],
   "source": [
    "with open(\"../data/spolin-train.json\") as f: \n",
    "    train_data = json.load(f) \n",
    "    \n",
    "with open(\"../data/spolin-valid.json\") as f: \n",
    "    valid_data = json.load(f) "
   ]
  },
  {
   "cell_type": "code",
   "execution_count": 3,
   "id": "b6e2d1d9-3c9b-40a4-adaf-cad2257748b6",
   "metadata": {},
   "outputs": [
    {
     "data": {
      "text/plain": [
       "dict_keys(['spont', 'cornell', 'subtle'])"
      ]
     },
     "execution_count": 3,
     "metadata": {},
     "output_type": "execute_result"
    }
   ],
   "source": [
    "train_data['yesands'].keys()"
   ]
  },
  {
   "cell_type": "code",
   "execution_count": 31,
   "id": "cfe6652b-c42b-4042-b621-83254ad41407",
   "metadata": {},
   "outputs": [],
   "source": [
    "def get_utterances(spolin_dict, split=\"train\"): \n",
    "    utterance_corpus = {}\n",
    "    ct = 0 \n",
    "    for label, dict_ in spolin_dict.items(): \n",
    "        for source, pairs in dict_.items(): \n",
    "            for pair in pairs: \n",
    "                for turn, text in pair.items(): \n",
    "                    if turn not in [\"p\", \"r\"]: \n",
    "                        continue \n",
    "                    if turn == \"p\": \n",
    "                        speaker_idx = 1 \n",
    "                    if turn == \"r\": \n",
    "                        speaker_idx = 2 \n",
    "                    idx = f\"{split}_{ct}_{turn}\"\n",
    "                    conversation_id = f\"{split}_{ct}\"\n",
    "                    meta = {\"split\": split, \"label\": 1 if label==\"yesands\" else 0, \"source\": source} \n",
    "                    utterance_corpus[idx] = Utterance(\n",
    "                        id=idx, \n",
    "                        conversation_id=conversation_id,\n",
    "                        speaker=Speaker(id=f\"{conversation_id}_speaker_{speaker_idx}\", meta={}),\n",
    "                        text=pair[turn], \n",
    "                        meta=meta\n",
    "                    )\n",
    "                    if turn == 'p': \n",
    "                        utterance_corpus[idx].reply_to=None \n",
    "                    elif turn == 'r': \n",
    "                        utterance_corpus[idx].reply_to=idx[:-1] + \"p\" \n",
    "                ct += 1 \n",
    "    return utterance_corpus"
   ]
  },
  {
   "cell_type": "code",
   "execution_count": 32,
   "id": "a0f3828f-605c-4b76-b966-c2ea256f4822",
   "metadata": {},
   "outputs": [],
   "source": [
    "all_utterances = get_utterances(train_data)\n",
    "all_utterances.update(get_utterances(valid_data, split=\"valid\"))"
   ]
  },
  {
   "cell_type": "code",
   "execution_count": 34,
   "id": "73f555e5-28b4-4aee-b216-cb588c8f00ec",
   "metadata": {},
   "outputs": [
    {
     "name": "stdout",
     "output_type": "stream",
     "text": [
      "Total number of utterances = 225194\n"
     ]
    }
   ],
   "source": [
    "print(\"Total number of utterances = {}\".format(len(all_utterances)))"
   ]
  },
  {
   "cell_type": "code",
   "execution_count": 35,
   "id": "6fae5258-45e7-4dce-be4c-0a5138653ba7",
   "metadata": {},
   "outputs": [],
   "source": [
    "utterance_list = all_utterances.values()"
   ]
  },
  {
   "cell_type": "code",
   "execution_count": 36,
   "id": "b5ebe425-f6f8-4e42-80d2-6af2279898b3",
   "metadata": {},
   "outputs": [],
   "source": [
    "spolin_corpus = Corpus(utterances=utterance_list)"
   ]
  },
  {
   "cell_type": "code",
   "execution_count": 37,
   "id": "c1b4ec4a-9c9d-4b53-adee-74f627ec6de9",
   "metadata": {},
   "outputs": [
    {
     "name": "stdout",
     "output_type": "stream",
     "text": [
      "number of conversations in the dataset = 112597\n"
     ]
    }
   ],
   "source": [
    "print(\"number of conversations in the dataset = {}\".format(len(spolin_corpus.get_conversation_ids())))"
   ]
  },
  {
   "cell_type": "code",
   "execution_count": 38,
   "id": "48297e6d-4b39-44e1-9308-68bef35cea69",
   "metadata": {},
   "outputs": [],
   "source": [
    "spolin_corpus.meta.update({\n",
    "    \"name\": \"spolin\", \n",
    "    \"brief description\": \"Selected Pairs of Learnable ImprovisatioN (SPOLIN) is a collection of more than 68,000 \\\"Yes, and\\\" type dialogue pairs extracted from the Spontaneanation podcast by Paul F. Tompkins, the Cornell Movie-Dialogs Corpus, and the SubTle corpus.\",\n",
    "    \"authors\": \"Hyundong Justin Cho, Jonathan May\", \n",
    "    \"poc_email\": \"jcho@isi.edu\", \n",
    "    \"github_url\": \"https://github.com/wise-east/spolin\",\n",
    "    \"publication_title\": \"Grounding Conversations with Improvised Dialogues\", \n",
    "    \"publication_venue\": \"ACL2020\", \n",
    "    \"publication_url\": \"https://aclanthology.org/2020.acl-main.218/\",\n",
    "    \"license\": \"Creative Commons Attribution-NonCommercial 4.0 International License\", \n",
    "})"
   ]
  },
  {
   "cell_type": "code",
   "execution_count": 75,
   "id": "b5682159-5a41-4e09-a097-1ad138c0a284",
   "metadata": {},
   "outputs": [],
   "source": [
    "spolin_corpus.dump(\"spolin_corpus\")"
   ]
  },
  {
   "cell_type": "code",
   "execution_count": null,
   "id": "81cf002c-8df2-465c-b47b-4f128445e4dc",
   "metadata": {},
   "outputs": [],
   "source": [
    "corpus=Corpus(convokit.download(\"spolin_corpus\"))"
   ]
  },
  {
   "cell_type": "code",
   "execution_count": null,
   "id": "de13c3ec-513a-4047-941e-c9c6bb98b7e6",
   "metadata": {},
   "outputs": [],
   "source": []
  }
 ],
 "metadata": {
  "kernelspec": {
   "display_name": "Python 3.8.13 ('spolin')",
   "language": "python",
   "name": "python3"
  },
  "language_info": {
   "codemirror_mode": {
    "name": "ipython",
    "version": 3
   },
   "file_extension": ".py",
   "mimetype": "text/x-python",
   "name": "python",
   "nbconvert_exporter": "python",
   "pygments_lexer": "ipython3",
   "version": "3.8.13"
  },
  "vscode": {
   "interpreter": {
    "hash": "405ec81afa084d4d79a30c4f8e7ee1a610000691143545378786d546e9dfc134"
   }
  }
 },
 "nbformat": 4,
 "nbformat_minor": 5
}
