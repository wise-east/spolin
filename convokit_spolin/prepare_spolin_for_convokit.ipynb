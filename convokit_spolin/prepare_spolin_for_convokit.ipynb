{
 "cells": [
  {
   "cell_type": "markdown",
   "id": "b44bb0bc-9b9c-41c7-9c86-4f644b111e19",
   "metadata": {},
   "source": [
    "reference: https://github.com/CornellNLP/ConvoKit/blob/master/examples/converting_movie_corpus.ipynb"
   ]
  },
  {
   "cell_type": "code",
   "execution_count": 60,
   "id": "2ccabfc2-01d1-4089-bdb8-6f4aa2ff9680",
   "metadata": {},
   "outputs": [],
   "source": [
    "from tqdm import tqdm\n",
    "from convokit import Corpus, Speaker, Utterance\n",
    "from collections import defaultdict\n",
    "import convokit \n",
    "import json "
   ]
  },
  {
   "cell_type": "code",
   "execution_count": 61,
   "id": "d7015675-0954-4a1b-8d9b-b687740c0fe3",
   "metadata": {},
   "outputs": [],
   "source": [
    "corpus_speakers = {\n",
    "    \"p\": Speaker(id=\"speaker1\", meta={}), \n",
    "    \"r\": Speaker(id=\"speaker2\", meta={})\n",
    "}"
   ]
  },
  {
   "cell_type": "code",
   "execution_count": 62,
   "id": "152e2dd3-7368-4376-80cb-77ca6ab87703",
   "metadata": {},
   "outputs": [],
   "source": [
    "with open(\"spolin-train.json\") as f: \n",
    "    train_data = json.load(f) \n",
    "    \n",
    "with open(\"spolin-valid.json\") as f: \n",
    "    valid_data = json.load(f) "
   ]
  },
  {
   "cell_type": "code",
   "execution_count": 72,
   "id": "b6e2d1d9-3c9b-40a4-adaf-cad2257748b6",
   "metadata": {},
   "outputs": [
    {
     "data": {
      "text/plain": [
       "dict_keys(['spont', 'cornell', 'subtle'])"
      ]
     },
     "execution_count": 72,
     "metadata": {},
     "output_type": "execute_result"
    }
   ],
   "source": [
    "train_data['yesands'].keys()"
   ]
  },
  {
   "cell_type": "code",
   "execution_count": 64,
   "id": "cfe6652b-c42b-4042-b621-83254ad41407",
   "metadata": {},
   "outputs": [],
   "source": [
    "def get_utterances(spolin_dict, split=\"train\"): \n",
    "    utterance_corpus = {}\n",
    "    ct = 0 \n",
    "    for label, dict_ in spolin_dict.items(): \n",
    "        for source, pairs in dict_.items(): \n",
    "            for pair in pairs: \n",
    "                for turn, text in pair.items(): \n",
    "                    if turn not in [\"p\", \"r\"]: \n",
    "                        continue \n",
    "                    idx = f\"{split}_{ct}_{turn}\"\n",
    "                    conversation_id = f\"{split}_{ct}\"\n",
    "                    meta = {\"split\": split, \"label\": 1 if label==\"yesands\" else 0, \"source\": source} \n",
    "                    utterance_corpus[idx] = Utterance(\n",
    "                        id=idx, \n",
    "                        conversation_id=conversation_id,\n",
    "                        speaker=corpus_speakers[turn],\n",
    "                        text=pair[turn], \n",
    "                        meta=meta\n",
    "                    )\n",
    "                    if turn == 'p': \n",
    "                        utterance_corpus[idx].reply_to=None \n",
    "                    elif turn == 'r': \n",
    "                        utterance_corpus[idx].reply_to=idx[:-1] + \"p\" \n",
    "                ct += 1 \n",
    "    return utterance_corpus"
   ]
  },
  {
   "cell_type": "code",
   "execution_count": 65,
   "id": "a0f3828f-605c-4b76-b966-c2ea256f4822",
   "metadata": {},
   "outputs": [],
   "source": [
    "all_utterances = get_utterances(train_data)\n",
    "all_utterances.update(get_utterances(valid_data, split=\"valid\"))"
   ]
  },
  {
   "cell_type": "code",
   "execution_count": 66,
   "id": "73f555e5-28b4-4aee-b216-cb588c8f00ec",
   "metadata": {},
   "outputs": [
    {
     "name": "stdout",
     "output_type": "stream",
     "text": [
      "Total number of utterances = 225194\n"
     ]
    }
   ],
   "source": [
    "print(\"Total number of utterances = {}\".format(len(all_utterances)))"
   ]
  },
  {
   "cell_type": "code",
   "execution_count": 67,
   "id": "6fae5258-45e7-4dce-be4c-0a5138653ba7",
   "metadata": {},
   "outputs": [],
   "source": [
    "utterance_list = all_utterances.values()"
   ]
  },
  {
   "cell_type": "code",
   "execution_count": 68,
   "id": "b5ebe425-f6f8-4e42-80d2-6af2279898b3",
   "metadata": {},
   "outputs": [],
   "source": [
    "spolin_corpus = Corpus(utterances=utterance_list)"
   ]
  },
  {
   "cell_type": "code",
   "execution_count": 69,
   "id": "c1b4ec4a-9c9d-4b53-adee-74f627ec6de9",
   "metadata": {},
   "outputs": [
    {
     "name": "stdout",
     "output_type": "stream",
     "text": [
      "number of conversations in the dataset = 112597\n"
     ]
    }
   ],
   "source": [
    "print(\"number of conversations in the dataset = {}\".format(len(spolin_corpus.get_conversation_ids())))"
   ]
  },
  {
   "cell_type": "code",
   "execution_count": 70,
   "id": "48297e6d-4b39-44e1-9308-68bef35cea69",
   "metadata": {},
   "outputs": [],
   "source": [
    "spolin_corpus.meta.update({\n",
    "    \"name\": \"spolin\", \n",
    "    \"brief description\": \"Selected Pairs of Learnable ImprovisatioN (SPOLIN) is a collection of more than 68,000 \\\"Yes, and\\\" type dialogue pairs extracted from the Spontaneanation podcast by Paul F. Tompkins, the Cornell Movie-Dialogs Corpus, and the SubTle corpus.\",\n",
    "    \"authors\": \"Hyundong Justin Cho, Jonathan May\", \n",
    "    \"poc_email\": \"jcho@isi.edu\", \n",
    "    \"github_url\": \"https://github.com/wise-east/spolin\",\n",
    "    \"publication_title\": \"Grounding Conversations with Improvised Dialogues\", \n",
    "    \"publication_venue\": \"ACL2020\", \n",
    "    \"publication_url\": \"https://aclanthology.org/2020.acl-main.218/\",\n",
    "    \"license\": \"Creative Commons Attribution-NonCommercial 4.0 International License\", \n",
    "})"
   ]
  },
  {
   "cell_type": "code",
   "execution_count": 77,
   "id": "b5682159-5a41-4e09-a097-1ad138c0a284",
   "metadata": {},
   "outputs": [],
   "source": [
    "spolin_corpus.dump(\"spolin_corpus\")"
   ]
  },
  {
   "cell_type": "code",
   "execution_count": 76,
   "id": "81cf002c-8df2-465c-b47b-4f128445e4dc",
   "metadata": {},
   "outputs": [
    {
     "name": "stdout",
     "output_type": "stream",
     "text": [
      "Downloading spolin_corpus to /Users/jcho/.convokit/downloads/spolin_corpus\n"
     ]
    },
    {
     "ename": "KeyError",
     "evalue": "'spolin_corpus'",
     "output_type": "error",
     "traceback": [
      "\u001b[0;31m---------------------------------------------------------------------------\u001b[0m",
      "\u001b[0;31mKeyError\u001b[0m                                  Traceback (most recent call last)",
      "Input \u001b[0;32mIn [76]\u001b[0m, in \u001b[0;36m<cell line: 1>\u001b[0;34m()\u001b[0m\n\u001b[0;32m----> 1\u001b[0m corpus\u001b[38;5;241m=\u001b[39mCorpus(\u001b[43mconvokit\u001b[49m\u001b[38;5;241;43m.\u001b[39;49m\u001b[43mdownload\u001b[49m\u001b[43m(\u001b[49m\u001b[38;5;124;43m\"\u001b[39;49m\u001b[38;5;124;43mspolin_corpus\u001b[39;49m\u001b[38;5;124;43m\"\u001b[39;49m\u001b[43m)\u001b[49m)\n",
      "File \u001b[0;32m~/miniconda3/envs/convokit/lib/python3.8/site-packages/convokit/util.py:158\u001b[0m, in \u001b[0;36mdownload\u001b[0;34m(name, verbose, data_dir, use_newest_version, use_local)\u001b[0m\n\u001b[1;32m    156\u001b[0m                 _download_helper(motif_file_path, url, verbose, full_name, downloadeds_path)\n\u001b[1;32m    157\u001b[0m     \u001b[38;5;28;01melse\u001b[39;00m:\n\u001b[0;32m--> 158\u001b[0m         url \u001b[38;5;241m=\u001b[39m \u001b[43mDatasetURLs\u001b[49m\u001b[43m[\u001b[49m\u001b[43mname\u001b[49m\u001b[43m]\u001b[49m\n\u001b[1;32m    159\u001b[0m         _download_helper(dataset_path, url, verbose, name, downloadeds_path)\n\u001b[1;32m    160\u001b[0m \u001b[38;5;28;01melse\u001b[39;00m:\n",
      "\u001b[0;31mKeyError\u001b[0m: 'spolin_corpus'"
     ]
    }
   ],
   "source": [
    "corpus=Corpus(convokit.download(\"spolin_corpus\"))"
   ]
  },
  {
   "cell_type": "code",
   "execution_count": null,
   "id": "de13c3ec-513a-4047-941e-c9c6bb98b7e6",
   "metadata": {},
   "outputs": [],
   "source": []
  }
 ],
 "metadata": {
  "kernelspec": {
   "display_name": "Python 3 (ipykernel)",
   "language": "python",
   "name": "python3"
  },
  "language_info": {
   "codemirror_mode": {
    "name": "ipython",
    "version": 3
   },
   "file_extension": ".py",
   "mimetype": "text/x-python",
   "name": "python",
   "nbconvert_exporter": "python",
   "pygments_lexer": "ipython3",
   "version": "3.8.13"
  }
 },
 "nbformat": 4,
 "nbformat_minor": 5
}
