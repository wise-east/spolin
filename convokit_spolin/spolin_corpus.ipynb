{
 "cells": [
  {
   "cell_type": "code",
   "execution_count": 1,
   "id": "f7e0dc87-5dee-4e21-97c6-fb2a4acc021f",
   "metadata": {},
   "outputs": [],
   "source": [
    "import os\n",
    "import pandas as pd\n",
    "import numpy as np\n",
    "\n",
    "from convokit import Corpus, download"
   ]
  },
  {
   "cell_type": "markdown",
   "id": "e3be4263-fc4d-41af-bf98-7f80e53cab59",
   "metadata": {},
   "source": [
    "### Download or load the corpus"
   ]
  },
  {
   "cell_type": "code",
   "execution_count": 21,
   "id": "27690730-d263-4659-9b2a-0b644d059271",
   "metadata": {},
   "outputs": [],
   "source": [
    "#option 1: download using the corpus name\n",
    "# corpus = Corpus(filename=download(\"spolin_corpus\"))\n",
    "\n",
    "#option 2: give the path to the folder containing the Corpus\n",
    "corpus = Corpus(filename=\"~/.convokit/saved-corpora/spolin_corpus\")"
   ]
  },
  {
   "cell_type": "markdown",
   "id": "9410591d-906b-4897-8848-970882b36c6a",
   "metadata": {},
   "source": [
    "### Corpus information"
   ]
  },
  {
   "cell_type": "code",
   "execution_count": 22,
   "id": "85c5ab0b-c1eb-4395-a40b-45e2b48ff246",
   "metadata": {},
   "outputs": [
    {
     "data": {
      "text/plain": [
       "{'name': 'spolin',\n",
       " 'brief description': 'Selected Pairs of Learnable ImprovisatioN (SPOLIN) is a collection of more than 68,000 \"Yes, and\" type dialogue pairs extracted from the Spontaneanation podcast by Paul F. Tompkins, the Cornell Movie-Dialogs Corpus, and the SubTle corpus.',\n",
       " 'authors': 'Hyundong Justin Cho, Jonathan May',\n",
       " 'poc_email': 'jcho@isi.edu',\n",
       " 'github_url': 'https://github.com/wise-east/spolin',\n",
       " 'publication_title': 'Grounding Conversations with Improvised Dialogues',\n",
       " 'publication_venue': 'ACL2020',\n",
       " 'publication_url': 'https://aclanthology.org/2020.acl-main.218/',\n",
       " 'license': 'Creative Commons Attribution-NonCommercial 4.0 International License'}"
      ]
     },
     "execution_count": 22,
     "metadata": {},
     "output_type": "execute_result"
    }
   ],
   "source": [
    "corpus.meta"
   ]
  },
  {
   "cell_type": "markdown",
   "id": "7d1d5e19-5ce3-4538-be95-5adceaec4573",
   "metadata": {
    "tags": []
   },
   "source": [
    "### Print standard corpus statistics"
   ]
  },
  {
   "cell_type": "code",
   "execution_count": 17,
   "id": "2511634d-bf7f-4997-b18e-8e86988613f0",
   "metadata": {},
   "outputs": [
    {
     "name": "stdout",
     "output_type": "stream",
     "text": [
      "Number of Speakers: 2\n",
      "Number of Utterances: 225194\n",
      "Number of Conversations: 112597\n"
     ]
    }
   ],
   "source": [
    "corpus.print_summary_stats()"
   ]
  },
  {
   "cell_type": "markdown",
   "id": "24142d7e-1cc9-4454-9c5b-eb6fe668967b",
   "metadata": {},
   "source": [
    "### Utterance level information \n",
    "\n",
    "Utterance object stores the utterance text and meta information for the source of the input, whether it belongs to the train or validation set, and its label. If label=1, it means it's from a \"Yes, and\" pair. \n"
   ]
  },
  {
   "cell_type": "code",
   "execution_count": 18,
   "id": "66d71abb-100b-43a3-bd55-24b984677873",
   "metadata": {},
   "outputs": [
    {
     "data": {
      "text/plain": [
       "Utterance({'obj_type': 'utterance', 'meta': {'split': 'train', 'label': 1, 'source': 'spont'}, 'vectors': [], 'speaker': Speaker({'obj_type': 'speaker', 'meta': {}, 'vectors': [], 'owner': <convokit.model.corpus.Corpus object at 0x7fda2c0d14c0>, 'id': 'speaker1'}), 'conversation_id': 'train_0', 'reply_to': None, 'timestamp': None, 'text': 'I just want to say if this does not work out I promise to to personally show up to each of your homes and apologize for my life not working out the way that it should.', 'owner': <convokit.model.corpus.Corpus object at 0x7fda2c0d14c0>, 'id': 'train_0_p'})"
      ]
     },
     "execution_count": 18,
     "metadata": {},
     "output_type": "execute_result"
    }
   ],
   "source": [
    "corpus.utterances[next(iter(corpus.utterances))]"
   ]
  },
  {
   "cell_type": "markdown",
   "id": "8a82c040-5b3e-4323-90e7-3e3b2a5f1927",
   "metadata": {},
   "source": [
    "### Use cases\n",
    "\n",
    "- Fine-tune a dialog model to create a chatbot such as that in the [SpolinBot demo](https://spolin.isi.edu)\n",
    "- Train \"Yes, and\" classifier to extract \"Yes, and\"s from existing dialogue datasets or as an evaluator for the quality of a response. "
   ]
  },
  {
   "cell_type": "code",
   "execution_count": null,
   "id": "5934a80d-727f-4000-97f6-04cd0e456efa",
   "metadata": {},
   "outputs": [],
   "source": []
  }
 ],
 "metadata": {
  "kernelspec": {
   "display_name": "Python 3 (ipykernel)",
   "language": "python",
   "name": "python3"
  },
  "language_info": {
   "codemirror_mode": {
    "name": "ipython",
    "version": 3
   },
   "file_extension": ".py",
   "mimetype": "text/x-python",
   "name": "python",
   "nbconvert_exporter": "python",
   "pygments_lexer": "ipython3",
   "version": "3.8.13"
  }
 },
 "nbformat": 4,
 "nbformat_minor": 5
}
